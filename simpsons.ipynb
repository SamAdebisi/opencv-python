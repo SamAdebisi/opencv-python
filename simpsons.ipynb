{
 "cells": [
  {
   "cell_type": "code",
   "execution_count": 1,
   "metadata": {},
   "outputs": [
    {
     "name": "stdout",
     "output_type": "stream",
     "text": [
      "Collecting caer\n",
      "  Downloading caer-2.0.8-py3-none-any.whl.metadata (7.8 kB)\n",
      "Collecting canaro\n",
      "  Downloading canaro-1.1.0-py3-none-any.whl.metadata (2.6 kB)\n",
      "Collecting mypy (from caer)\n",
      "  Downloading mypy-1.17.0-cp310-cp310-macosx_11_0_arm64.whl.metadata (2.2 kB)\n",
      "Requirement already satisfied: numpy in /Users/azeez/miniforge3/lib/python3.10/site-packages (from caer) (2.1.3)\n",
      "Requirement already satisfied: opencv-contrib-python in /Users/azeez/miniforge3/lib/python3.10/site-packages (from caer) (4.12.0.88)\n",
      "Requirement already satisfied: typing-extensions in /Users/azeez/miniforge3/lib/python3.10/site-packages (from caer) (4.12.2)\n",
      "Requirement already satisfied: tensorflow in /Users/azeez/miniforge3/lib/python3.10/site-packages (from canaro) (2.17.0)\n",
      "Requirement already satisfied: mypy_extensions>=1.0.0 in /Users/azeez/miniforge3/lib/python3.10/site-packages (from mypy->caer) (1.1.0)\n",
      "Collecting pathspec>=0.9.0 (from mypy->caer)\n",
      "  Downloading pathspec-0.12.1-py3-none-any.whl.metadata (21 kB)\n",
      "Requirement already satisfied: tomli>=1.1.0 in /Users/azeez/miniforge3/lib/python3.10/site-packages (from mypy->caer) (2.1.0)\n",
      "Requirement already satisfied: absl-py>=1.0.0 in /Users/azeez/miniforge3/lib/python3.10/site-packages (from tensorflow->canaro) (2.1.0)\n",
      "Requirement already satisfied: astunparse>=1.6.0 in /Users/azeez/miniforge3/lib/python3.10/site-packages (from tensorflow->canaro) (1.6.3)\n",
      "Requirement already satisfied: flatbuffers>=24.3.25 in /Users/azeez/miniforge3/lib/python3.10/site-packages (from tensorflow->canaro) (25.2.10)\n",
      "Requirement already satisfied: gast!=0.5.0,!=0.5.1,!=0.5.2,>=0.2.1 in /Users/azeez/miniforge3/lib/python3.10/site-packages (from tensorflow->canaro) (0.6.0)\n",
      "Requirement already satisfied: google-pasta>=0.1.1 in /Users/azeez/miniforge3/lib/python3.10/site-packages (from tensorflow->canaro) (0.2.0)\n",
      "Requirement already satisfied: h5py>=3.10.0 in /Users/azeez/miniforge3/lib/python3.10/site-packages (from tensorflow->canaro) (3.13.0)\n",
      "Requirement already satisfied: ml-dtypes<0.5.0,>=0.3.1 in /Users/azeez/miniforge3/lib/python3.10/site-packages (from tensorflow->canaro) (0.4.0)\n",
      "Requirement already satisfied: opt-einsum>=2.3.2 in /Users/azeez/miniforge3/lib/python3.10/site-packages (from tensorflow->canaro) (3.4.0)\n",
      "Requirement already satisfied: packaging in /Users/azeez/miniforge3/lib/python3.10/site-packages (from tensorflow->canaro) (24.0)\n",
      "Collecting protobuf!=4.21.0,!=4.21.1,!=4.21.2,!=4.21.3,!=4.21.4,!=4.21.5,<6.0.0dev,>=3.20.3 (from tensorflow->canaro)\n",
      "  Downloading protobuf-5.29.5-cp38-abi3-macosx_10_9_universal2.whl.metadata (592 bytes)\n",
      "Requirement already satisfied: requests<3,>=2.21.0 in /Users/azeez/miniforge3/lib/python3.10/site-packages (from tensorflow->canaro) (2.32.3)\n",
      "Requirement already satisfied: setuptools in /Users/azeez/miniforge3/lib/python3.10/site-packages (from tensorflow->canaro) (69.5.1)\n",
      "Requirement already satisfied: six>=1.12.0 in /Users/azeez/miniforge3/lib/python3.10/site-packages (from tensorflow->canaro) (1.16.0)\n",
      "Requirement already satisfied: termcolor>=1.1.0 in /Users/azeez/miniforge3/lib/python3.10/site-packages (from tensorflow->canaro) (2.5.0)\n",
      "Requirement already satisfied: wrapt>=1.11.0 in /Users/azeez/miniforge3/lib/python3.10/site-packages (from tensorflow->canaro) (1.17.2)\n",
      "Requirement already satisfied: grpcio<2.0,>=1.24.3 in /Users/azeez/miniforge3/lib/python3.10/site-packages (from tensorflow->canaro) (1.65.5)\n",
      "Requirement already satisfied: tensorboard<2.18,>=2.17 in /Users/azeez/miniforge3/lib/python3.10/site-packages (from tensorflow->canaro) (2.17.1)\n",
      "Requirement already satisfied: keras>=3.2.0 in /Users/azeez/miniforge3/lib/python3.10/site-packages (from tensorflow->canaro) (3.8.0)\n",
      "Requirement already satisfied: rich in /Users/azeez/miniforge3/lib/python3.10/site-packages (from keras>=3.2.0->tensorflow->canaro) (13.9.4)\n",
      "Requirement already satisfied: namex in /Users/azeez/miniforge3/lib/python3.10/site-packages (from keras>=3.2.0->tensorflow->canaro) (0.0.8)\n",
      "Requirement already satisfied: optree in /Users/azeez/miniforge3/lib/python3.10/site-packages (from keras>=3.2.0->tensorflow->canaro) (0.14.0)\n",
      "Requirement already satisfied: charset-normalizer<4,>=2 in /Users/azeez/miniforge3/lib/python3.10/site-packages (from requests<3,>=2.21.0->tensorflow->canaro) (3.3.2)\n",
      "Requirement already satisfied: idna<4,>=2.5 in /Users/azeez/miniforge3/lib/python3.10/site-packages (from requests<3,>=2.21.0->tensorflow->canaro) (3.6)\n",
      "Requirement already satisfied: urllib3<3,>=1.21.1 in /Users/azeez/miniforge3/lib/python3.10/site-packages (from requests<3,>=2.21.0->tensorflow->canaro) (2.2.1)\n",
      "Requirement already satisfied: certifi>=2017.4.17 in /Users/azeez/miniforge3/lib/python3.10/site-packages (from requests<3,>=2.21.0->tensorflow->canaro) (2025.1.31)\n",
      "Requirement already satisfied: markdown>=2.6.8 in /Users/azeez/miniforge3/lib/python3.10/site-packages (from tensorboard<2.18,>=2.17->tensorflow->canaro) (3.6)\n",
      "Requirement already satisfied: tensorboard-data-server<0.8.0,>=0.7.0 in /Users/azeez/miniforge3/lib/python3.10/site-packages (from tensorboard<2.18,>=2.17->tensorflow->canaro) (0.7.0)\n",
      "Requirement already satisfied: werkzeug>=1.0.1 in /Users/azeez/miniforge3/lib/python3.10/site-packages (from tensorboard<2.18,>=2.17->tensorflow->canaro) (3.1.3)\n",
      "Requirement already satisfied: MarkupSafe>=2.1.1 in /Users/azeez/miniforge3/lib/python3.10/site-packages (from werkzeug>=1.0.1->tensorboard<2.18,>=2.17->tensorflow->canaro) (3.0.2)\n",
      "Requirement already satisfied: markdown-it-py>=2.2.0 in /Users/azeez/miniforge3/lib/python3.10/site-packages (from rich->keras>=3.2.0->tensorflow->canaro) (3.0.0)\n",
      "Requirement already satisfied: pygments<3.0.0,>=2.13.0 in /Users/azeez/miniforge3/lib/python3.10/site-packages (from rich->keras>=3.2.0->tensorflow->canaro) (2.18.0)\n",
      "Requirement already satisfied: mdurl~=0.1 in /Users/azeez/miniforge3/lib/python3.10/site-packages (from markdown-it-py>=2.2.0->rich->keras>=3.2.0->tensorflow->canaro) (0.1.2)\n",
      "Downloading caer-2.0.8-py3-none-any.whl (809 kB)\n",
      "\u001b[2K   \u001b[90m━━━━━━━━━━━━━━━━━━━━━━━━━━━━━━━━━━━━━━━━\u001b[0m \u001b[32m809.5/809.5 kB\u001b[0m \u001b[31m1.7 MB/s\u001b[0m eta \u001b[36m0:00:00\u001b[0ma \u001b[36m0:00:01\u001b[0m\n",
      "\u001b[?25hDownloading canaro-1.1.0-py3-none-any.whl (19 kB)\n",
      "Downloading mypy-1.17.0-cp310-cp310-macosx_11_0_arm64.whl (10.1 MB)\n",
      "\u001b[2K   \u001b[90m━━━━━━━━━━━━━━━━━━━━━━━━━━━━━━━━━━━━━━━━\u001b[0m \u001b[32m10.1/10.1 MB\u001b[0m \u001b[31m2.8 MB/s\u001b[0m eta \u001b[36m0:00:00\u001b[0m00:01\u001b[0m0:01\u001b[0m\n",
      "\u001b[?25hDownloading pathspec-0.12.1-py3-none-any.whl (31 kB)\n",
      "Downloading protobuf-5.29.5-cp38-abi3-macosx_10_9_universal2.whl (418 kB)\n",
      "\u001b[2K   \u001b[90m━━━━━━━━━━━━━━━━━━━━━━━━━━━━━━━━━━━━━━━━\u001b[0m \u001b[32m418.1/418.1 kB\u001b[0m \u001b[31m3.1 MB/s\u001b[0m eta \u001b[36m0:00:00\u001b[0ma \u001b[36m0:00:01\u001b[0m\n",
      "\u001b[?25hInstalling collected packages: protobuf, pathspec, mypy, caer, canaro\n",
      "  Attempting uninstall: protobuf\n",
      "    Found existing installation: protobuf 6.31.1\n",
      "    Uninstalling protobuf-6.31.1:\n",
      "      Successfully uninstalled protobuf-6.31.1\n",
      "Successfully installed caer-2.0.8 canaro-1.1.0 mypy-1.17.0 pathspec-0.12.1 protobuf-5.29.5\n",
      "Note: you may need to restart the kernel to use updated packages.\n"
     ]
    }
   ],
   "source": [
    "%pip install --upgrade caer canaro"
   ]
  },
  {
   "cell_type": "code",
   "execution_count": null,
   "metadata": {},
   "outputs": [],
   "source": [
    "import os \n",
    "import caer \n",
    "import canaro \n",
    "import numpy as np \n",
    "import cv2 as cv \n",
    "import gc "
   ]
  },
  {
   "cell_type": "code",
   "execution_count": null,
   "metadata": {},
   "outputs": [],
   "source": [
    "IMG_SIZE = (80, 80)\n",
    "channels = 1 \n",
    "char_path = r'../input/the-simpsons-characters-dataset/simpsons_dataset'"
   ]
  },
  {
   "cell_type": "code",
   "execution_count": null,
   "metadata": {},
   "outputs": [],
   "source": [
    "# Creating a character dictionary, sorting it in descending order \n",
    "char_dict = {}\n",
    "for char in os.listdir(char_path):\n",
    "    char_dict[char] = len(os.listdir(os.path.join(char_path, char)))\n",
    "    \n",
    "# Sort in descending order \n",
    "char_dict = caer.sort_dict(char_dict, descending=True)\n",
    "char_dict "
   ]
  },
  {
   "cell_type": "code",
   "execution_count": null,
   "metadata": {},
   "outputs": [],
   "source": [
    "# Getting the first 10 categories with thye most number of images \n",
    "characters = []\n",
    "count = 0 \n",
    "for i in char_dict:\n",
    "    characters.append(i[0])\n",
    "    count += 1 \n",
    "    if count >= 10: \n",
    "        break \n",
    "characters "
   ]
  },
  {
   "cell_type": "code",
   "execution_count": null,
   "metadata": {},
   "outputs": [],
   "source": [
    "# Create the training data \n",
    "train = caer.preprocess_from_dir(char_path, characters, channels=channels, IMG_SIZE=IMG_SIZE, isShuffle=True)"
   ]
  },
  {
   "cell_type": "code",
   "execution_count": null,
   "metadata": {},
   "outputs": [],
   "source": [
    "# Number of training samples \n",
    "len(train)"
   ]
  },
  {
   "cell_type": "code",
   "execution_count": null,
   "metadata": {},
   "outputs": [],
   "source": [
    "# Visualizing the data (OpenCV doesn't display wel in Jupyter notebooks)\n",
    "import matplotlib.pyplot as plt \n",
    "plt.figure(figsize=(30,30))\n",
    "plt.imshow(train[0][0], cmap='gray')\n",
    "plt.show()"
   ]
  },
  {
   "cell_type": "code",
   "execution_count": null,
   "metadata": {},
   "outputs": [],
   "source": [
    "# Separating the array and corresponding labels \n",
    "featureSet, labels = caer.sep_train(train, IMG_SIZE=IMG_SIZE)"
   ]
  },
  {
   "cell_type": "code",
   "execution_count": null,
   "metadata": {},
   "outputs": [],
   "source": [
    "from tensorflow.keras.utils import to_categorical \n",
    "\n",
    "# Normalize the featureSet ==> (0,1)\n",
    "featureSet = caer.normalize(featureSet)\n",
    "# Converting numerical labels to binary class vectors \n",
    "labels = to_categorical(labels, len(characters))"
   ]
  },
  {
   "cell_type": "code",
   "execution_count": null,
   "metadata": {},
   "outputs": [],
   "source": [
    "x_train, x_val, y_train, y_val = caer.train_val_split(featureSet, labels, val_ratio=.2)"
   ]
  },
  {
   "cell_type": "code",
   "execution_count": null,
   "metadata": {},
   "outputs": [],
   "source": [
    "del train \n",
    "del featureSet \n",
    "del labels \n",
    "gc.collect()"
   ]
  },
  {
   "cell_type": "code",
   "execution_count": null,
   "metadata": {},
   "outputs": [],
   "source": [
    "# Useful variables when training \n",
    "BATCH_SIZE = 32 \n",
    "EPOCHS = 10 "
   ]
  },
  {
   "cell_type": "code",
   "execution_count": null,
   "metadata": {},
   "outputs": [],
   "source": [
    "# Image data generator (introduces randomness in network ==> better accuracy)\n",
    "import canaro.generators\n",
    "\n",
    "\n",
    "datagen = canaro.generators.imageDataGenerator()\n",
    "train_gen = datagen.flow(x_train, y_train, batch_size=BATCH_SIZE)"
   ]
  },
  {
   "cell_type": "code",
   "execution_count": null,
   "metadata": {},
   "outputs": [],
   "source": []
  },
  {
   "cell_type": "code",
   "execution_count": null,
   "metadata": {},
   "outputs": [],
   "source": []
  },
  {
   "cell_type": "code",
   "execution_count": null,
   "metadata": {},
   "outputs": [],
   "source": []
  },
  {
   "cell_type": "code",
   "execution_count": null,
   "metadata": {},
   "outputs": [],
   "source": []
  },
  {
   "cell_type": "code",
   "execution_count": null,
   "metadata": {},
   "outputs": [],
   "source": []
  },
  {
   "cell_type": "code",
   "execution_count": null,
   "metadata": {},
   "outputs": [],
   "source": []
  },
  {
   "cell_type": "code",
   "execution_count": null,
   "metadata": {},
   "outputs": [],
   "source": []
  },
  {
   "cell_type": "code",
   "execution_count": null,
   "metadata": {},
   "outputs": [],
   "source": []
  },
  {
   "cell_type": "code",
   "execution_count": null,
   "metadata": {},
   "outputs": [],
   "source": []
  },
  {
   "cell_type": "code",
   "execution_count": null,
   "metadata": {},
   "outputs": [],
   "source": []
  },
  {
   "cell_type": "code",
   "execution_count": null,
   "metadata": {},
   "outputs": [],
   "source": []
  }
 ],
 "metadata": {
  "kernelspec": {
   "display_name": "base",
   "language": "python",
   "name": "python3"
  },
  "language_info": {
   "codemirror_mode": {
    "name": "ipython",
    "version": 3
   },
   "file_extension": ".py",
   "mimetype": "text/x-python",
   "name": "python",
   "nbconvert_exporter": "python",
   "pygments_lexer": "ipython3",
   "version": "3.10.14"
  }
 },
 "nbformat": 4,
 "nbformat_minor": 2
}
